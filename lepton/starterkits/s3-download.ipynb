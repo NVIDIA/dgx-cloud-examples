{
 "cells": [
  {
   "cell_type": "markdown",
   "id": "1d4cab92-6213-4288-a425-ce405c28f8a4",
   "metadata": {},
   "source": [
    "# S3 Data Download into Lepton Local Storage\n",
    "\n",
    "This notebook shows how data can be downloaded from an external S3 bucket to mounted storage on a DGX Cloud Lepton dev pod. It makes use of a publicly available dataset for global fishery statistics purely as an example of loading a CSV dataset into a pandas DataFrame. The intent is for developers to make use of their own S3 buckets for transferring data to and from the dev pod.\n",
    "\n",
    "<div class=\"alert alert-block alert-info\">\n",
    "<b>Note:</b> The license and terms of use for this sample dataset can be found <a href=https://registry.opendata.aws/sau-global-fisheries-catch-data/>here</a>.\n",
    "</div>"
   ]
  },
  {
   "cell_type": "markdown",
   "id": "16ee1fa1-57ca-425e-af5f-015d5d914ee5",
   "metadata": {},
   "source": [
    "### Requirements\n",
    "\n",
    "-  Image: A Rapids Notebook container image such as `nvcr.io/nvidia/rapidsai/notebooks:25.08-cuda12.9-py3.13` or later\n",
    "-  Packages: s3fs Python package installed\n",
    "-  GPU: An NVIDIA Ampere or greater class GPU for cuDF acceleration (for example, A100)"
   ]
  },
  {
   "cell_type": "markdown",
   "id": "9fa5ffb5-f4a3-4783-902f-346eab98aad1",
   "metadata": {},
   "source": [
    "### Storage Mount Setup"
   ]
  },
  {
   "cell_type": "markdown",
   "id": "e39ef160-5244-4c78-a928-fef4d7808229",
   "metadata": {},
   "source": [
    "Follow the instructions __[here](https://docs.nvidia.com/dgx-cloud/lepton/features/storage/)__ to setup either Node Local or Static NFS volumes in DGX Cloud Lepton. Mount the storage point at `/mnt/data` with UID/GID of 1001 for the prescribed Rapids container image."
   ]
  },
  {
   "cell_type": "markdown",
   "id": "396ef1b5-ba98-4b23-9703-5e3e4e8f2bf9",
   "metadata": {},
   "source": [
    "### Install s3fs"
   ]
  },
  {
   "cell_type": "markdown",
   "id": "22bbed40-9056-47c1-a7c8-8d8225d4faaa",
   "metadata": {},
   "source": [
    "Make sure that we have the __[s3fs](https://s3fs.readthedocs.io/en/latest/)__ pip package installed."
   ]
  },
  {
   "cell_type": "code",
   "execution_count": 1,
   "id": "2d414eb9-d475-4df9-9ab3-d9f81838a242",
   "metadata": {},
   "outputs": [
    {
     "name": "stdout",
     "output_type": "stream",
     "text": [
      "Requirement already satisfied: s3fs in /opt/conda/lib/python3.13/site-packages (2025.9.0)\n",
      "Requirement already satisfied: aiobotocore<3.0.0,>=2.5.4 in /opt/conda/lib/python3.13/site-packages (from s3fs) (2.24.2)\n",
      "Requirement already satisfied: fsspec==2025.9.0 in /opt/conda/lib/python3.13/site-packages (from s3fs) (2025.9.0)\n",
      "Requirement already satisfied: aiohttp!=4.0.0a0,!=4.0.0a1 in /opt/conda/lib/python3.13/site-packages (from s3fs) (3.12.15)\n",
      "Requirement already satisfied: aioitertools<1.0.0,>=0.5.1 in /opt/conda/lib/python3.13/site-packages (from aiobotocore<3.0.0,>=2.5.4->s3fs) (0.12.0)\n",
      "Requirement already satisfied: botocore<1.40.19,>=1.40.15 in /opt/conda/lib/python3.13/site-packages (from aiobotocore<3.0.0,>=2.5.4->s3fs) (1.40.18)\n",
      "Requirement already satisfied: python-dateutil<3.0.0,>=2.1 in /opt/conda/lib/python3.13/site-packages (from aiobotocore<3.0.0,>=2.5.4->s3fs) (2.9.0.post0)\n",
      "Requirement already satisfied: jmespath<2.0.0,>=0.7.1 in /opt/conda/lib/python3.13/site-packages (from aiobotocore<3.0.0,>=2.5.4->s3fs) (1.0.1)\n",
      "Requirement already satisfied: multidict<7.0.0,>=6.0.0 in /opt/conda/lib/python3.13/site-packages (from aiobotocore<3.0.0,>=2.5.4->s3fs) (6.6.3)\n",
      "Requirement already satisfied: wrapt<2.0.0,>=1.10.10 in /opt/conda/lib/python3.13/site-packages (from aiobotocore<3.0.0,>=2.5.4->s3fs) (1.17.3)\n",
      "Requirement already satisfied: aiohappyeyeballs>=2.5.0 in /opt/conda/lib/python3.13/site-packages (from aiohttp!=4.0.0a0,!=4.0.0a1->s3fs) (2.6.1)\n",
      "Requirement already satisfied: aiosignal>=1.4.0 in /opt/conda/lib/python3.13/site-packages (from aiohttp!=4.0.0a0,!=4.0.0a1->s3fs) (1.4.0)\n",
      "Requirement already satisfied: attrs>=17.3.0 in /opt/conda/lib/python3.13/site-packages (from aiohttp!=4.0.0a0,!=4.0.0a1->s3fs) (25.3.0)\n",
      "Requirement already satisfied: frozenlist>=1.1.1 in /opt/conda/lib/python3.13/site-packages (from aiohttp!=4.0.0a0,!=4.0.0a1->s3fs) (1.7.0)\n",
      "Requirement already satisfied: propcache>=0.2.0 in /opt/conda/lib/python3.13/site-packages (from aiohttp!=4.0.0a0,!=4.0.0a1->s3fs) (0.3.1)\n",
      "Requirement already satisfied: yarl<2.0,>=1.17.0 in /opt/conda/lib/python3.13/site-packages (from aiohttp!=4.0.0a0,!=4.0.0a1->s3fs) (1.20.1)\n",
      "Requirement already satisfied: urllib3!=2.2.0,<3,>=1.25.4 in /opt/conda/lib/python3.13/site-packages (from botocore<1.40.19,>=1.40.15->aiobotocore<3.0.0,>=2.5.4->s3fs) (2.5.0)\n",
      "Requirement already satisfied: six>=1.5 in /opt/conda/lib/python3.13/site-packages (from python-dateutil<3.0.0,>=2.1->aiobotocore<3.0.0,>=2.5.4->s3fs) (1.17.0)\n",
      "Requirement already satisfied: idna>=2.0 in /opt/conda/lib/python3.13/site-packages (from yarl<2.0,>=1.17.0->aiohttp!=4.0.0a0,!=4.0.0a1->s3fs) (3.10)\n"
     ]
    }
   ],
   "source": [
    "!pip install s3fs"
   ]
  },
  {
   "cell_type": "markdown",
   "id": "68b4cc3d-9063-4fcf-be3a-11d3192b8768",
   "metadata": {},
   "source": [
    "### Import pandas (Optionally with cuDF GPU Acceleration)"
   ]
  },
  {
   "cell_type": "markdown",
   "id": "3931b26b-2e40-4b89-965a-5843a40d3a07",
   "metadata": {},
   "source": [
    "If we want to run the GPU accelerated version of __[pandas](https://pandas.pydata.org/docs/index.html)__, we can load the __[cuDF](https://docs.rapids.ai/api/cudf/stable/)__ extension."
   ]
  },
  {
   "cell_type": "code",
   "execution_count": 2,
   "id": "ec781df5-4119-430e-ad5a-33f799ebb776",
   "metadata": {},
   "outputs": [],
   "source": [
    "%load_ext cudf.pandas"
   ]
  },
  {
   "cell_type": "markdown",
   "id": "f70ecb78-f952-429f-ab5c-f31acf1d4dc2",
   "metadata": {},
   "source": [
    "Import pandas in its own cell to make sure the previous load extension step was completed by the kernel."
   ]
  },
  {
   "cell_type": "code",
   "execution_count": 3,
   "id": "4b43b116-ada7-4b13-a63d-fa81584a8450",
   "metadata": {},
   "outputs": [],
   "source": [
    "import pandas as pd"
   ]
  },
  {
   "cell_type": "markdown",
   "id": "47ef1b56-3043-45cc-a3e5-307072bd4989",
   "metadata": {},
   "source": [
    "### Anonymous S3 Access"
   ]
  },
  {
   "cell_type": "markdown",
   "id": "6a9a457b-a700-4bb4-b3f9-8868c367ac6b",
   "metadata": {},
   "source": [
    "Import the s3fs package and then as an example load a publicly available S3 dataset for yearly fishery statistics from around the globe. No credentials, access keys, secrets, or account are required in this case (anonymous access)."
   ]
  },
  {
   "cell_type": "code",
   "execution_count": 4,
   "id": "697ead68-b914-4957-a0bc-0281ceba49f9",
   "metadata": {},
   "outputs": [],
   "source": [
    "import s3fs"
   ]
  },
  {
   "cell_type": "code",
   "execution_count": 5,
   "id": "fb76f033-1ec3-4304-93a1-19b6db3cea55",
   "metadata": {},
   "outputs": [],
   "source": [
    "local_path = '/tmp/rfmo_12.csv'\n",
    "bucket_path = 's3://fisheries-catch-data/global-catch-data/csv/rfmo_12.csv'\n",
    "s3 = s3fs.S3FileSystem(anon=True)"
   ]
  },
  {
   "cell_type": "markdown",
   "id": "feedb3dd-c753-4846-943a-2be61231187b",
   "metadata": {},
   "source": [
    "### Options for Connecting to S3"
   ]
  },
  {
   "cell_type": "markdown",
   "id": "ebf3b7dc-8858-4b4b-8e5b-6968cf579475",
   "metadata": {},
   "source": [
    "If you need to access a private S3 bucket then there are keyword arguments for the key and secret to be applied."
   ]
  },
  {
   "cell_type": "code",
   "execution_count": 6,
   "id": "11956f0b-5cfe-490d-abab-e4782ab5a035",
   "metadata": {},
   "outputs": [],
   "source": [
    "# s3 = s3fs.S3FileSystem(\n",
    "#      key='YOUR_ACCESS_KEY...',\n",
    "#      secret='YOUR_ACCESS_SECRET...'\n",
    "#    )"
   ]
  },
  {
   "cell_type": "markdown",
   "id": "e4ffb577-a034-4e0a-836e-1f407acd7cac",
   "metadata": {},
   "source": [
    "s3fs can also detect and use appropriate environment variables if they have been set for the key and secret."
   ]
  },
  {
   "cell_type": "code",
   "execution_count": 7,
   "id": "19079174-9e7b-4cd6-a346-fd442d4b4c6c",
   "metadata": {},
   "outputs": [],
   "source": [
    "# export FSSPEC_S3_KEY='YOUR_ACCESS_KEY...'\n",
    "# export FSSPEC_S3_SECRET='YOUR_ACCESS_SECRET...'\n",
    "# s3 = s3fs.S3FileSystem()"
   ]
  },
  {
   "cell_type": "markdown",
   "id": "be51306d-0042-4d1d-8d59-67300781e3d7",
   "metadata": {},
   "source": [
    "Credentials can also be detected and used by the underlying boto credential helper from client_kwargs, environment variables, config files, or an EC2 IAM server."
   ]
  },
  {
   "cell_type": "code",
   "execution_count": 8,
   "id": "8b6466c8-4c00-4555-bcd4-5aa0237074c1",
   "metadata": {},
   "outputs": [],
   "source": [
    "# s3 = s3fs.S3FileSystem(anon=False)"
   ]
  },
  {
   "cell_type": "markdown",
   "id": "5cb2871b-894a-411a-9e58-9cb2df0a84a4",
   "metadata": {},
   "source": [
    "Finally, s3fs is compatible with non-AWS object storage such as MinIO. In this case, we would specify the URL of the MinIO endpoint."
   ]
  },
  {
   "cell_type": "code",
   "execution_count": 9,
   "id": "83037fa3-93c0-4457-bf56-729b0e5915b2",
   "metadata": {},
   "outputs": [],
   "source": [
    "# s3 = s3fs.S3FileSystem(\n",
    "#      endpoint_url='https://non.aws.such.as.minio...'\n",
    "#   )"
   ]
  },
  {
   "cell_type": "markdown",
   "id": "47da116d-e4c0-49a2-8363-1a18f5afd8c5",
   "metadata": {},
   "source": [
    "### Download a Dataset from S3"
   ]
  },
  {
   "cell_type": "code",
   "execution_count": 10,
   "id": "c02718c0-8de3-4c1a-b6cd-de9e3118c9fe",
   "metadata": {},
   "outputs": [
    {
     "data": {
      "text/plain": [
       "[None]"
      ]
     },
     "execution_count": 10,
     "metadata": {},
     "output_type": "execute_result"
    }
   ],
   "source": [
    "s3.download(bucket_path, local_path)"
   ]
  },
  {
   "cell_type": "markdown",
   "id": "f1ed9ad9-a502-4b60-9eab-3ff92d8e91a0",
   "metadata": {},
   "source": [
    "Perform a cursory check that we have download the dataset."
   ]
  },
  {
   "cell_type": "code",
   "execution_count": 11,
   "id": "c5530191-b948-4505-9d2b-c68b50e5f2a1",
   "metadata": {},
   "outputs": [
    {
     "name": "stdout",
     "output_type": "stream",
     "text": [
      "-rw-r--r-- 1 rapids conda 194M Oct  6 19:39 /tmp/rfmo_12.csv\n"
     ]
    }
   ],
   "source": [
    "!ls -lh /tmp/*.csv"
   ]
  },
  {
   "cell_type": "markdown",
   "id": "06983d00-0ed9-4376-a3b2-daa6c8550ab1",
   "metadata": {},
   "source": [
    "### Load the Dataset into a pandas DataFrame"
   ]
  },
  {
   "cell_type": "markdown",
   "id": "9fabdb35-8077-41a4-8901-dcfd2af180e7",
   "metadata": {},
   "source": [
    "Read the downloaded CSV file into a pandas DataFrame."
   ]
  },
  {
   "cell_type": "code",
   "execution_count": 12,
   "id": "aac8f79a-eff3-42cf-85b5-b2b585079757",
   "metadata": {},
   "outputs": [],
   "source": [
    "df = pd.read_csv(local_path)"
   ]
  },
  {
   "cell_type": "markdown",
   "id": "5426a237-05b1-42c8-b2b3-85936a16cb46",
   "metadata": {},
   "source": [
    "### Work with the DataFrame"
   ]
  },
  {
   "cell_type": "markdown",
   "id": "d3825421-1335-4249-b613-15a4b96ac9c2",
   "metadata": {},
   "source": [
    "Check the number of rows in the DataFrame."
   ]
  },
  {
   "cell_type": "code",
   "execution_count": 13,
   "id": "3c1af2f5-1149-415c-819e-aa8d2ad3d261",
   "metadata": {},
   "outputs": [
    {
     "data": {
      "text/plain": [
       "1084102"
      ]
     },
     "execution_count": 13,
     "metadata": {},
     "output_type": "execute_result"
    }
   ],
   "source": [
    "len(df)"
   ]
  },
  {
   "cell_type": "raw",
   "id": "f015e04c-d9df-4b24-af43-28a707ed77bd",
   "metadata": {},
   "source": [
    "Examine the original datatypes used for each column."
   ]
  },
  {
   "cell_type": "code",
   "execution_count": 14,
   "id": "71ef25bc-4ce3-4b26-8d1e-425d1ac417c9",
   "metadata": {},
   "outputs": [
    {
     "data": {
      "text/plain": [
       "rfmo_id              int64\n",
       "rfmo_name           object\n",
       "layer_name          object\n",
       "year                object\n",
       "scientific_name     object\n",
       "common_name         object\n",
       "functional_group    object\n",
       "commercial_group    object\n",
       "fishing_entity      object\n",
       "sector_type         object\n",
       "catch_status        object\n",
       "reporting_status    object\n",
       "gear_name           object\n",
       "catch_sum           object\n",
       "real_value          object\n",
       "dtype: object"
      ]
     },
     "execution_count": 14,
     "metadata": {},
     "output_type": "execute_result"
    }
   ],
   "source": [
    "df.dtypes"
   ]
  },
  {
   "cell_type": "markdown",
   "id": "6ff8e8ec-70b8-4bd2-b2d3-afa66698d038",
   "metadata": {},
   "source": [
    "Generally describe the original dataset."
   ]
  },
  {
   "cell_type": "code",
   "execution_count": 15,
   "id": "b95193c7-f18b-4058-be81-78ea3dab0697",
   "metadata": {},
   "outputs": [
    {
     "data": {
      "text/html": [
       "<div>\n",
       "<style scoped>\n",
       "    .dataframe tbody tr th:only-of-type {\n",
       "        vertical-align: middle;\n",
       "    }\n",
       "\n",
       "    .dataframe tbody tr th {\n",
       "        vertical-align: top;\n",
       "    }\n",
       "\n",
       "    .dataframe thead th {\n",
       "        text-align: right;\n",
       "    }\n",
       "</style>\n",
       "<table border=\"1\" class=\"dataframe\">\n",
       "  <thead>\n",
       "    <tr style=\"text-align: right;\">\n",
       "      <th></th>\n",
       "      <th>rfmo_name</th>\n",
       "      <th>layer_name</th>\n",
       "      <th>year</th>\n",
       "      <th>scientific_name</th>\n",
       "      <th>common_name</th>\n",
       "      <th>functional_group</th>\n",
       "      <th>commercial_group</th>\n",
       "      <th>fishing_entity</th>\n",
       "      <th>sector_type</th>\n",
       "      <th>catch_status</th>\n",
       "      <th>reporting_status</th>\n",
       "      <th>gear_name</th>\n",
       "      <th>catch_sum</th>\n",
       "      <th>real_value</th>\n",
       "    </tr>\n",
       "  </thead>\n",
       "  <tbody>\n",
       "    <tr>\n",
       "      <th>count</th>\n",
       "      <td>1084102</td>\n",
       "      <td>1084102</td>\n",
       "      <td>1084102</td>\n",
       "      <td>1084102</td>\n",
       "      <td>1084102</td>\n",
       "      <td>1084102</td>\n",
       "      <td>1084102</td>\n",
       "      <td>1084102</td>\n",
       "      <td>1084102</td>\n",
       "      <td>1084102</td>\n",
       "      <td>1084102</td>\n",
       "      <td>1084102</td>\n",
       "      <td>1084102</td>\n",
       "      <td>1084102</td>\n",
       "    </tr>\n",
       "    <tr>\n",
       "      <th>unique</th>\n",
       "      <td>1</td>\n",
       "      <td>1</td>\n",
       "      <td>69</td>\n",
       "      <td>641</td>\n",
       "      <td>637</td>\n",
       "      <td>30</td>\n",
       "      <td>12</td>\n",
       "      <td>60</td>\n",
       "      <td>4</td>\n",
       "      <td>2</td>\n",
       "      <td>2</td>\n",
       "      <td>38</td>\n",
       "      <td>701429</td>\n",
       "      <td>788223</td>\n",
       "    </tr>\n",
       "    <tr>\n",
       "      <th>top</th>\n",
       "      <td>NEAFC</td>\n",
       "      <td>rfmo</td>\n",
       "      <td>2018</td>\n",
       "      <td>Gadus morhua</td>\n",
       "      <td>Atlantic cod</td>\n",
       "      <td>Medium demersals (30 - 89 cm)</td>\n",
       "      <td>Cod-likes</td>\n",
       "      <td>Spain</td>\n",
       "      <td>Industrial</td>\n",
       "      <td>Landings</td>\n",
       "      <td>Reported</td>\n",
       "      <td>bottom trawl</td>\n",
       "      <td>0.0000000000</td>\n",
       "      <td>1e-06</td>\n",
       "    </tr>\n",
       "    <tr>\n",
       "      <th>freq</th>\n",
       "      <td>1084102</td>\n",
       "      <td>1084102</td>\n",
       "      <td>29574</td>\n",
       "      <td>37697</td>\n",
       "      <td>37697</td>\n",
       "      <td>127300</td>\n",
       "      <td>208364</td>\n",
       "      <td>179814</td>\n",
       "      <td>611992</td>\n",
       "      <td>952430</td>\n",
       "      <td>667785</td>\n",
       "      <td>167896</td>\n",
       "      <td>2772</td>\n",
       "      <td>205</td>\n",
       "    </tr>\n",
       "  </tbody>\n",
       "</table>\n",
       "</div>"
      ],
      "text/plain": [
       "       rfmo_name layer_name     year scientific_name   common_name  \\\n",
       "count    1084102    1084102  1084102         1084102       1084102   \n",
       "unique         1          1       69             641           637   \n",
       "top        NEAFC       rfmo     2018    Gadus morhua  Atlantic cod   \n",
       "freq     1084102    1084102    29574           37697         37697   \n",
       "\n",
       "                     functional_group commercial_group fishing_entity  \\\n",
       "count                         1084102          1084102        1084102   \n",
       "unique                             30               12             60   \n",
       "top     Medium demersals (30 - 89 cm)        Cod-likes          Spain   \n",
       "freq                           127300           208364         179814   \n",
       "\n",
       "       sector_type catch_status reporting_status     gear_name     catch_sum  \\\n",
       "count      1084102      1084102          1084102       1084102       1084102   \n",
       "unique           4            2                2            38        701429   \n",
       "top     Industrial     Landings         Reported  bottom trawl  0.0000000000   \n",
       "freq        611992       952430           667785        167896          2772   \n",
       "\n",
       "       real_value  \n",
       "count     1084102  \n",
       "unique     788223  \n",
       "top         1e-06  \n",
       "freq          205  "
      ]
     },
     "execution_count": 15,
     "metadata": {},
     "output_type": "execute_result"
    }
   ],
   "source": [
    "df.describe(include='object')"
   ]
  },
  {
   "cell_type": "markdown",
   "id": "30b55757-2463-415b-8305-939af0c40f87",
   "metadata": {},
   "source": [
    "Look at the first 5 rows of the DataFrame."
   ]
  },
  {
   "cell_type": "code",
   "execution_count": 16,
   "id": "3abf0090-78db-43e1-be01-824265ab9922",
   "metadata": {},
   "outputs": [
    {
     "data": {
      "text/html": [
       "<div>\n",
       "<style scoped>\n",
       "    .dataframe tbody tr th:only-of-type {\n",
       "        vertical-align: middle;\n",
       "    }\n",
       "\n",
       "    .dataframe tbody tr th {\n",
       "        vertical-align: top;\n",
       "    }\n",
       "\n",
       "    .dataframe thead th {\n",
       "        text-align: right;\n",
       "    }\n",
       "</style>\n",
       "<table border=\"1\" class=\"dataframe\">\n",
       "  <thead>\n",
       "    <tr style=\"text-align: right;\">\n",
       "      <th></th>\n",
       "      <th>rfmo_id</th>\n",
       "      <th>rfmo_name</th>\n",
       "      <th>layer_name</th>\n",
       "      <th>year</th>\n",
       "      <th>scientific_name</th>\n",
       "      <th>common_name</th>\n",
       "      <th>functional_group</th>\n",
       "      <th>commercial_group</th>\n",
       "      <th>fishing_entity</th>\n",
       "      <th>sector_type</th>\n",
       "      <th>catch_status</th>\n",
       "      <th>reporting_status</th>\n",
       "      <th>gear_name</th>\n",
       "      <th>catch_sum</th>\n",
       "      <th>real_value</th>\n",
       "    </tr>\n",
       "  </thead>\n",
       "  <tbody>\n",
       "    <tr>\n",
       "      <th>0</th>\n",
       "      <td>12</td>\n",
       "      <td>NEAFC</td>\n",
       "      <td>rfmo</td>\n",
       "      <td>1950</td>\n",
       "      <td>Marine fishes not identified</td>\n",
       "      <td>Marine fishes nei</td>\n",
       "      <td>Medium demersals (30 - 89 cm)</td>\n",
       "      <td>Other fishes &amp; inverts</td>\n",
       "      <td>Belgium</td>\n",
       "      <td>Industrial</td>\n",
       "      <td>Discards</td>\n",
       "      <td>Unreported</td>\n",
       "      <td>bottom trawl</td>\n",
       "      <td>1082.9153580534</td>\n",
       "      <td>1587553.9149062468</td>\n",
       "    </tr>\n",
       "    <tr>\n",
       "      <th>1</th>\n",
       "      <td>12</td>\n",
       "      <td>NEAFC</td>\n",
       "      <td>rfmo</td>\n",
       "      <td>1950</td>\n",
       "      <td>Marine fishes not identified</td>\n",
       "      <td>Marine fishes nei</td>\n",
       "      <td>Medium demersals (30 - 89 cm)</td>\n",
       "      <td>Other fishes &amp; inverts</td>\n",
       "      <td>Belgium</td>\n",
       "      <td>Industrial</td>\n",
       "      <td>Discards</td>\n",
       "      <td>Unreported</td>\n",
       "      <td>shrimp trawl</td>\n",
       "      <td>112.0446831571</td>\n",
       "      <td>164257.50550826537</td>\n",
       "    </tr>\n",
       "    <tr>\n",
       "      <th>2</th>\n",
       "      <td>12</td>\n",
       "      <td>NEAFC</td>\n",
       "      <td>rfmo</td>\n",
       "      <td>1950</td>\n",
       "      <td>Marine fishes not identified</td>\n",
       "      <td>Marine fishes nei</td>\n",
       "      <td>Medium demersals (30 - 89 cm)</td>\n",
       "      <td>Other fishes &amp; inverts</td>\n",
       "      <td>Belgium</td>\n",
       "      <td>Industrial</td>\n",
       "      <td>Discards</td>\n",
       "      <td>Unreported</td>\n",
       "      <td>beam trawl</td>\n",
       "      <td>1937.0042833652</td>\n",
       "      <td>2839648.2794133592</td>\n",
       "    </tr>\n",
       "    <tr>\n",
       "      <th>3</th>\n",
       "      <td>12</td>\n",
       "      <td>NEAFC</td>\n",
       "      <td>rfmo</td>\n",
       "      <td>1950</td>\n",
       "      <td>Marine fishes not identified</td>\n",
       "      <td>Marine fishes nei</td>\n",
       "      <td>Medium demersals (30 - 89 cm)</td>\n",
       "      <td>Other fishes &amp; inverts</td>\n",
       "      <td>Belgium</td>\n",
       "      <td>Industrial</td>\n",
       "      <td>Discards</td>\n",
       "      <td>Unreported</td>\n",
       "      <td>otter trawl</td>\n",
       "      <td>103.1146899565</td>\n",
       "      <td>151166.1354762795</td>\n",
       "    </tr>\n",
       "    <tr>\n",
       "      <th>4</th>\n",
       "      <td>12</td>\n",
       "      <td>NEAFC</td>\n",
       "      <td>rfmo</td>\n",
       "      <td>1950</td>\n",
       "      <td>Marine fishes not identified</td>\n",
       "      <td>Marine fishes nei</td>\n",
       "      <td>Medium demersals (30 - 89 cm)</td>\n",
       "      <td>Other fishes &amp; inverts</td>\n",
       "      <td>Belgium</td>\n",
       "      <td>Industrial</td>\n",
       "      <td>Discards</td>\n",
       "      <td>Unreported</td>\n",
       "      <td>pelagic trawl</td>\n",
       "      <td>0.6578542548</td>\n",
       "      <td>964.4143375576564</td>\n",
       "    </tr>\n",
       "  </tbody>\n",
       "</table>\n",
       "</div>"
      ],
      "text/plain": [
       "   rfmo_id rfmo_name layer_name  year               scientific_name  \\\n",
       "0       12     NEAFC       rfmo  1950  Marine fishes not identified   \n",
       "1       12     NEAFC       rfmo  1950  Marine fishes not identified   \n",
       "2       12     NEAFC       rfmo  1950  Marine fishes not identified   \n",
       "3       12     NEAFC       rfmo  1950  Marine fishes not identified   \n",
       "4       12     NEAFC       rfmo  1950  Marine fishes not identified   \n",
       "\n",
       "         common_name               functional_group        commercial_group  \\\n",
       "0  Marine fishes nei  Medium demersals (30 - 89 cm)  Other fishes & inverts   \n",
       "1  Marine fishes nei  Medium demersals (30 - 89 cm)  Other fishes & inverts   \n",
       "2  Marine fishes nei  Medium demersals (30 - 89 cm)  Other fishes & inverts   \n",
       "3  Marine fishes nei  Medium demersals (30 - 89 cm)  Other fishes & inverts   \n",
       "4  Marine fishes nei  Medium demersals (30 - 89 cm)  Other fishes & inverts   \n",
       "\n",
       "  fishing_entity sector_type catch_status reporting_status      gear_name  \\\n",
       "0        Belgium  Industrial     Discards       Unreported   bottom trawl   \n",
       "1        Belgium  Industrial     Discards       Unreported   shrimp trawl   \n",
       "2        Belgium  Industrial     Discards       Unreported     beam trawl   \n",
       "3        Belgium  Industrial     Discards       Unreported    otter trawl   \n",
       "4        Belgium  Industrial     Discards       Unreported  pelagic trawl   \n",
       "\n",
       "         catch_sum          real_value  \n",
       "0  1082.9153580534  1587553.9149062468  \n",
       "1   112.0446831571  164257.50550826537  \n",
       "2  1937.0042833652  2839648.2794133592  \n",
       "3   103.1146899565   151166.1354762795  \n",
       "4     0.6578542548   964.4143375576564  "
      ]
     },
     "execution_count": 16,
     "metadata": {},
     "output_type": "execute_result"
    }
   ],
   "source": [
    "df.head()"
   ]
  },
  {
   "cell_type": "markdown",
   "id": "fa9d984b-af3b-497b-ade7-448aa0838fe1",
   "metadata": {},
   "source": [
    "Look at the last 5 rows of the DataFrame."
   ]
  },
  {
   "cell_type": "code",
   "execution_count": 17,
   "id": "ae2a1b30-6f98-4e83-9d0e-f7362f8ac7e8",
   "metadata": {},
   "outputs": [
    {
     "data": {
      "text/html": [
       "<div>\n",
       "<style scoped>\n",
       "    .dataframe tbody tr th:only-of-type {\n",
       "        vertical-align: middle;\n",
       "    }\n",
       "\n",
       "    .dataframe tbody tr th {\n",
       "        vertical-align: top;\n",
       "    }\n",
       "\n",
       "    .dataframe thead th {\n",
       "        text-align: right;\n",
       "    }\n",
       "</style>\n",
       "<table border=\"1\" class=\"dataframe\">\n",
       "  <thead>\n",
       "    <tr style=\"text-align: right;\">\n",
       "      <th></th>\n",
       "      <th>rfmo_id</th>\n",
       "      <th>rfmo_name</th>\n",
       "      <th>layer_name</th>\n",
       "      <th>year</th>\n",
       "      <th>scientific_name</th>\n",
       "      <th>common_name</th>\n",
       "      <th>functional_group</th>\n",
       "      <th>commercial_group</th>\n",
       "      <th>fishing_entity</th>\n",
       "      <th>sector_type</th>\n",
       "      <th>catch_status</th>\n",
       "      <th>reporting_status</th>\n",
       "      <th>gear_name</th>\n",
       "      <th>catch_sum</th>\n",
       "      <th>real_value</th>\n",
       "    </tr>\n",
       "  </thead>\n",
       "  <tbody>\n",
       "    <tr>\n",
       "      <th>1084097</th>\n",
       "      <td>12</td>\n",
       "      <td>NEAFC</td>\n",
       "      <td>rfmo</td>\n",
       "      <td>2018</td>\n",
       "      <td>Donax trunculus</td>\n",
       "      <td>Truncate donax</td>\n",
       "      <td>Other demersal invertebrates</td>\n",
       "      <td>Molluscs</td>\n",
       "      <td>Spain</td>\n",
       "      <td>Artisanal</td>\n",
       "      <td>Landings</td>\n",
       "      <td>Reported</td>\n",
       "      <td>artisanal fishing gear</td>\n",
       "      <td>0.0123567702</td>\n",
       "      <td>0.3617893716732997</td>\n",
       "    </tr>\n",
       "    <tr>\n",
       "      <th>1084098</th>\n",
       "      <td>12</td>\n",
       "      <td>NEAFC</td>\n",
       "      <td>rfmo</td>\n",
       "      <td>2018</td>\n",
       "      <td>Nassarius mutabilis</td>\n",
       "      <td>Changeable nassa</td>\n",
       "      <td>Other demersal invertebrates</td>\n",
       "      <td>Molluscs</td>\n",
       "      <td>Spain</td>\n",
       "      <td>Artisanal</td>\n",
       "      <td>Discards</td>\n",
       "      <td>Unreported</td>\n",
       "      <td>artisanal fishing gear</td>\n",
       "      <td>0.0000932092</td>\n",
       "      <td>0.1366446650898646</td>\n",
       "    </tr>\n",
       "    <tr>\n",
       "      <th>1084099</th>\n",
       "      <td>12</td>\n",
       "      <td>NEAFC</td>\n",
       "      <td>rfmo</td>\n",
       "      <td>2018</td>\n",
       "      <td>Nassarius mutabilis</td>\n",
       "      <td>Changeable nassa</td>\n",
       "      <td>Other demersal invertebrates</td>\n",
       "      <td>Molluscs</td>\n",
       "      <td>Spain</td>\n",
       "      <td>Artisanal</td>\n",
       "      <td>Landings</td>\n",
       "      <td>Reported</td>\n",
       "      <td>artisanal fishing gear</td>\n",
       "      <td>0.0021910469</td>\n",
       "      <td>0.016375757448037924</td>\n",
       "    </tr>\n",
       "    <tr>\n",
       "      <th>1084100</th>\n",
       "      <td>12</td>\n",
       "      <td>NEAFC</td>\n",
       "      <td>rfmo</td>\n",
       "      <td>2018</td>\n",
       "      <td>Nassarius mutabilis</td>\n",
       "      <td>Changeable nassa</td>\n",
       "      <td>Other demersal invertebrates</td>\n",
       "      <td>Molluscs</td>\n",
       "      <td>Spain</td>\n",
       "      <td>Artisanal</td>\n",
       "      <td>Landings</td>\n",
       "      <td>Reported</td>\n",
       "      <td>artisanal fishing gear</td>\n",
       "      <td>0.0000010966</td>\n",
       "      <td>4.1021395389478396e-09</td>\n",
       "    </tr>\n",
       "    <tr>\n",
       "      <th>1084101</th>\n",
       "      <td>12</td>\n",
       "      <td>NEAFC</td>\n",
       "      <td>rfmo</td>\n",
       "      <td>2018</td>\n",
       "      <td>Nassarius mutabilis</td>\n",
       "      <td>Changeable nassa</td>\n",
       "      <td>Other demersal invertebrates</td>\n",
       "      <td>Molluscs</td>\n",
       "      <td>Spain</td>\n",
       "      <td>Artisanal</td>\n",
       "      <td>Landings</td>\n",
       "      <td>Reported</td>\n",
       "      <td>artisanal fishing gear</td>\n",
       "      <td>0.0000010966</td>\n",
       "      <td>4.1021395389478396e-09</td>\n",
       "    </tr>\n",
       "  </tbody>\n",
       "</table>\n",
       "</div>"
      ],
      "text/plain": [
       "         rfmo_id rfmo_name layer_name  year      scientific_name  \\\n",
       "1084097       12     NEAFC       rfmo  2018      Donax trunculus   \n",
       "1084098       12     NEAFC       rfmo  2018  Nassarius mutabilis   \n",
       "1084099       12     NEAFC       rfmo  2018  Nassarius mutabilis   \n",
       "1084100       12     NEAFC       rfmo  2018  Nassarius mutabilis   \n",
       "1084101       12     NEAFC       rfmo  2018  Nassarius mutabilis   \n",
       "\n",
       "              common_name              functional_group commercial_group  \\\n",
       "1084097    Truncate donax  Other demersal invertebrates         Molluscs   \n",
       "1084098  Changeable nassa  Other demersal invertebrates         Molluscs   \n",
       "1084099  Changeable nassa  Other demersal invertebrates         Molluscs   \n",
       "1084100  Changeable nassa  Other demersal invertebrates         Molluscs   \n",
       "1084101  Changeable nassa  Other demersal invertebrates         Molluscs   \n",
       "\n",
       "        fishing_entity sector_type catch_status reporting_status  \\\n",
       "1084097          Spain   Artisanal     Landings         Reported   \n",
       "1084098          Spain   Artisanal     Discards       Unreported   \n",
       "1084099          Spain   Artisanal     Landings         Reported   \n",
       "1084100          Spain   Artisanal     Landings         Reported   \n",
       "1084101          Spain   Artisanal     Landings         Reported   \n",
       "\n",
       "                      gear_name     catch_sum              real_value  \n",
       "1084097  artisanal fishing gear  0.0123567702      0.3617893716732997  \n",
       "1084098  artisanal fishing gear  0.0000932092      0.1366446650898646  \n",
       "1084099  artisanal fishing gear  0.0021910469    0.016375757448037924  \n",
       "1084100  artisanal fishing gear  0.0000010966  4.1021395389478396e-09  \n",
       "1084101  artisanal fishing gear  0.0000010966  4.1021395389478396e-09  "
      ]
     },
     "execution_count": 17,
     "metadata": {},
     "output_type": "execute_result"
    }
   ],
   "source": [
    "df.tail()"
   ]
  },
  {
   "cell_type": "markdown",
   "id": "74e0c45c-11eb-40b5-94af-157d1c1dce72",
   "metadata": {},
   "source": [
    "Count the top 15 different instances of fishing gear in the dataset. Profile the GPU usage (which may be minimal)."
   ]
  },
  {
   "cell_type": "code",
   "execution_count": 18,
   "id": "aeaff38c-9316-40c3-b1ff-c228d887b3dc",
   "metadata": {},
   "outputs": [
    {
     "data": {
      "text/plain": [
       "gear_name\n",
       "bottom trawl                 167896\n",
       "small scale gillnets         116035\n",
       "unknown class                106609\n",
       "small scale pots or traps     83572\n",
       "purse seine                   79387\n",
       "small scale lines             68955\n",
       "longline                      43772\n",
       "gillnet                       42023\n",
       "artisanal fishing gear        39466\n",
       "other                         36284\n",
       "small scale seine nets        30715\n",
       "shrimp trawl                  29150\n",
       "mixed gear                    26055\n",
       "small scale other nets        25718\n",
       "dredge                        24861\n",
       "Name: count, dtype: int64"
      ]
     },
     "execution_count": 18,
     "metadata": {},
     "output_type": "execute_result"
    },
    {
     "data": {
      "text/html": [
       "<pre style=\"white-space:pre;overflow-x:auto;line-height:normal;font-family:Menlo,'DejaVu Sans Mono',consolas,'Courier New',monospace\"><span style=\"font-style: italic\">                                                                                                                </span>\n",
       "<span style=\"font-style: italic\">                                           Total time elapsed: 0.287 seconds                                    </span>\n",
       "<span style=\"font-style: italic\">                                         4 GPU function calls in 0.039 seconds                                  </span>\n",
       "<span style=\"font-style: italic\">                                         1 CPU function calls in 0.002 seconds                                  </span>\n",
       "<span style=\"font-style: italic\">                                                                                                                </span>\n",
       "<span style=\"font-style: italic\">                                                         Stats                                                  </span>\n",
       "<span style=\"font-style: italic\">                                                                                                                </span>\n",
       "┏━━━━━━━━━━━━━━━━━━━━━━━━━━━━┳━━━━━━━━━━━━┳━━━━━━━━━━━━━┳━━━━━━━━━━━━━┳━━━━━━━━━━━━┳━━━━━━━━━━━━━┳━━━━━━━━━━━━━┓\n",
       "┃<span style=\"font-weight: bold\"> Function                   </span>┃<span style=\"font-weight: bold\"> GPU ncalls </span>┃<span style=\"font-weight: bold\"> GPU cumtime </span>┃<span style=\"font-weight: bold\"> GPU percall </span>┃<span style=\"font-weight: bold\"> CPU ncalls </span>┃<span style=\"font-weight: bold\"> CPU cumtime </span>┃<span style=\"font-weight: bold\"> CPU percall </span>┃\n",
       "┡━━━━━━━━━━━━━━━━━━━━━━━━━━━━╇━━━━━━━━━━━━╇━━━━━━━━━━━━━╇━━━━━━━━━━━━━╇━━━━━━━━━━━━╇━━━━━━━━━━━━━╇━━━━━━━━━━━━━┩\n",
       "│ DataFrame.__getitem__      │ 1          │ 0.001       │ 0.001       │ 0          │ 0.000       │ 0.000       │\n",
       "│ IndexOpsMixin.value_counts │ 1          │ 0.032       │ 0.032       │ 0          │ 0.000       │ 0.000       │\n",
       "│ NDFrame.head               │ 1          │ 0.001       │ 0.001       │ 0          │ 0.000       │ 0.000       │\n",
       "│ Series.__repr__            │ 1          │ 0.005       │ 0.005       │ 0          │ 0.000       │ 0.000       │\n",
       "│ NDFrame._repr_latex_       │ 0          │ 0.000       │ 0.000       │ 1          │ 0.002       │ 0.002       │\n",
       "└────────────────────────────┴────────────┴─────────────┴─────────────┴────────────┴─────────────┴─────────────┘\n",
       "</pre>\n"
      ],
      "text/plain": [
       "\u001b[3m                                                                                                                \u001b[0m\n",
       "\u001b[3m                                           Total time elapsed: 0.287 seconds                                    \u001b[0m\n",
       "\u001b[3m                                         4 GPU function calls in 0.039 seconds                                  \u001b[0m\n",
       "\u001b[3m                                         1 CPU function calls in 0.002 seconds                                  \u001b[0m\n",
       "\u001b[3m                                                                                                                \u001b[0m\n",
       "\u001b[3m                                                         Stats                                                  \u001b[0m\n",
       "\u001b[3m                                                                                                                \u001b[0m\n",
       "┏━━━━━━━━━━━━━━━━━━━━━━━━━━━━┳━━━━━━━━━━━━┳━━━━━━━━━━━━━┳━━━━━━━━━━━━━┳━━━━━━━━━━━━┳━━━━━━━━━━━━━┳━━━━━━━━━━━━━┓\n",
       "┃\u001b[1m \u001b[0m\u001b[1mFunction                  \u001b[0m\u001b[1m \u001b[0m┃\u001b[1m \u001b[0m\u001b[1mGPU ncalls\u001b[0m\u001b[1m \u001b[0m┃\u001b[1m \u001b[0m\u001b[1mGPU cumtime\u001b[0m\u001b[1m \u001b[0m┃\u001b[1m \u001b[0m\u001b[1mGPU percall\u001b[0m\u001b[1m \u001b[0m┃\u001b[1m \u001b[0m\u001b[1mCPU ncalls\u001b[0m\u001b[1m \u001b[0m┃\u001b[1m \u001b[0m\u001b[1mCPU cumtime\u001b[0m\u001b[1m \u001b[0m┃\u001b[1m \u001b[0m\u001b[1mCPU percall\u001b[0m\u001b[1m \u001b[0m┃\n",
       "┡━━━━━━━━━━━━━━━━━━━━━━━━━━━━╇━━━━━━━━━━━━╇━━━━━━━━━━━━━╇━━━━━━━━━━━━━╇━━━━━━━━━━━━╇━━━━━━━━━━━━━╇━━━━━━━━━━━━━┩\n",
       "│ DataFrame.__getitem__      │ 1          │ 0.001       │ 0.001       │ 0          │ 0.000       │ 0.000       │\n",
       "│ IndexOpsMixin.value_counts │ 1          │ 0.032       │ 0.032       │ 0          │ 0.000       │ 0.000       │\n",
       "│ NDFrame.head               │ 1          │ 0.001       │ 0.001       │ 0          │ 0.000       │ 0.000       │\n",
       "│ Series.__repr__            │ 1          │ 0.005       │ 0.005       │ 0          │ 0.000       │ 0.000       │\n",
       "│ NDFrame._repr_latex_       │ 0          │ 0.000       │ 0.000       │ 1          │ 0.002       │ 0.002       │\n",
       "└────────────────────────────┴────────────┴─────────────┴─────────────┴────────────┴─────────────┴─────────────┘\n"
      ]
     },
     "metadata": {},
     "output_type": "display_data"
    },
    {
     "data": {
      "text/html": [
       "<pre style=\"white-space:pre;overflow-x:auto;line-height:normal;font-family:Menlo,'DejaVu Sans Mono',consolas,'Courier New',monospace\">Not all pandas operations ran on the GPU. The following functions required CPU fallback:\n",
       "\n",
       "- NDFrame._repr_latex_\n",
       "\n",
       "</pre>\n"
      ],
      "text/plain": [
       "Not all pandas operations ran on the GPU. The following functions required CPU fallback:\n",
       "\n",
       "- NDFrame._repr_latex_\n",
       "\n"
      ]
     },
     "metadata": {},
     "output_type": "display_data"
    },
    {
     "data": {
      "text/html": [
       "<pre style=\"white-space:pre;overflow-x:auto;line-height:normal;font-family:Menlo,'DejaVu Sans Mono',consolas,'Courier New',monospace\">To request GPU support for any of these functions, please file a Github issue here: \n",
       "<a href=\"https://github.com/rapidsai/cudf/issues/new?assignees=&labels=%3F+-+Needs+Triage%2C+feature+request&projects=&template=pandas_function_request.md&title=%5BFEA%5D\" target=\"_blank\"><span style=\"color: #0000ff; text-decoration-color: #0000ff; text-decoration: underline\">https://github.com/rapidsai/cudf/issues/new/choose</span></a><span style=\"color: #0000ff; text-decoration-color: #0000ff; text-decoration: underline\">.</span>\n",
       "</pre>\n"
      ],
      "text/plain": [
       "To request GPU support for any of these functions, please file a Github issue here: \n",
       "\u001b]8;id=301923;https://github.com/rapidsai/cudf/issues/new?assignees=&labels=%3F+-+Needs+Triage%2C+feature+request&projects=&template=pandas_function_request.md&title=%5BFEA%5D\u001b\\\u001b[4;94mhttps://github.com/rapidsai/cudf/issues/new/choose\u001b[0m\u001b]8;;\u001b\\\u001b[4;94m.\u001b[0m\n"
      ]
     },
     "metadata": {},
     "output_type": "display_data"
    }
   ],
   "source": [
    "%%cudf.pandas.profile\n",
    "df[\"gear_name\"].value_counts().head(15)"
   ]
  },
  {
   "cell_type": "markdown",
   "id": "ee5939dc-5922-4eb9-a131-9eb621b0ef34",
   "metadata": {},
   "source": [
    "Convert some of the columns from object to numeric or date types."
   ]
  },
  {
   "cell_type": "code",
   "execution_count": 19,
   "id": "ab7b6701-bc88-4e3e-9919-a21656d33ce1",
   "metadata": {},
   "outputs": [],
   "source": [
    "df['year'] = pd.to_datetime(df['year'])\n",
    "df['catch_sum'] = pd.to_numeric(df['catch_sum'])\n",
    "df['real_value'] = pd.to_numeric(df['real_value'])"
   ]
  },
  {
   "cell_type": "markdown",
   "id": "17b760b9-fb26-4f4a-be5b-e07cd45e29d6",
   "metadata": {},
   "source": [
    "Check the datatypes again."
   ]
  },
  {
   "cell_type": "code",
   "execution_count": 20,
   "id": "2bd7b36b-7137-403f-8b5e-beb9123699e0",
   "metadata": {},
   "outputs": [
    {
     "data": {
      "text/plain": [
       "rfmo_id                      int64\n",
       "rfmo_name                   object\n",
       "layer_name                  object\n",
       "year                datetime64[ns]\n",
       "scientific_name             object\n",
       "common_name                 object\n",
       "functional_group            object\n",
       "commercial_group            object\n",
       "fishing_entity              object\n",
       "sector_type                 object\n",
       "catch_status                object\n",
       "reporting_status            object\n",
       "gear_name                   object\n",
       "catch_sum                  float64\n",
       "real_value                 float64\n",
       "dtype: object"
      ]
     },
     "execution_count": 20,
     "metadata": {},
     "output_type": "execute_result"
    }
   ],
   "source": [
    "df.dtypes"
   ]
  },
  {
   "cell_type": "markdown",
   "id": "7e2825bc-5799-4a83-bbb2-ebd181a13bfb",
   "metadata": {},
   "source": [
    "Collect the last 5 years of the dataset."
   ]
  },
  {
   "cell_type": "code",
   "execution_count": 21,
   "id": "1089cb7f-7cc3-4e8c-9756-707a977ffbf2",
   "metadata": {},
   "outputs": [],
   "source": [
    "years = df['year'].unique()[-5:]"
   ]
  },
  {
   "cell_type": "markdown",
   "id": "2f6a7cd8-0641-4710-a899-0de90c0b49cf",
   "metadata": {},
   "source": [
    "Create a new DataFrame from the top 15 countries in the dataset with the largest total catch in metric tonnes between 2014 and 2018."
   ]
  },
  {
   "cell_type": "code",
   "execution_count": 22,
   "id": "92455a92-3dbd-4ac6-b339-d77ec9240b77",
   "metadata": {},
   "outputs": [],
   "source": [
    "top_fisheries_by_catch = df[(df['year'] >= years[0]) & (df['year'] <= years[4])].groupby(['fishing_entity'], as_index = False)[['catch_sum']].sum().copy().sort_values(by='catch_sum',ascending=False).head(15)"
   ]
  },
  {
   "cell_type": "markdown",
   "id": "0d913a2b-b5e4-4434-b0e7-59f0505a475c",
   "metadata": {},
   "source": [
    "Plot the result as a horizontal bar chart."
   ]
  },
  {
   "cell_type": "code",
   "execution_count": 23,
   "id": "f168ff26-07d4-4ff4-9cf4-d738018fb7f2",
   "metadata": {},
   "outputs": [],
   "source": [
    "import matplotlib.pyplot as plt"
   ]
  },
  {
   "cell_type": "code",
   "execution_count": 24,
   "id": "ec113211-794c-4605-850f-ea0deb25898f",
   "metadata": {},
   "outputs": [
    {
     "data": {
      "image/png": "[encoded data removed]",
      "text/plain": [
       "<Figure size 640x480 with 1 Axes>"
      ]
     },
     "metadata": {},
     "output_type": "display_data"
    }
   ],
   "source": [
    "colors = ['red', 'green', 'blue', 'purple', 'orange','yellow']\n",
    "top_fisheries_by_catch.plot(x='fishing_entity',y='catch_sum',kind='barh',color=colors,legend=False)\n",
    "plt.title('Top 15 Fishing Catch by Country/Region 2014-2018')\n",
    "plt.xlabel('Metric Tonnes')\n",
    "plt.ylabel('Countries/Regions')\n",
    "plt.show()"
   ]
  },
  {
   "cell_type": "markdown",
   "id": "f646c443-6748-40a7-aa85-a11ef09b99f5",
   "metadata": {},
   "source": [
    "This completes the notebook example."
   ]
  }
 ],
 "metadata": {
  "container_image": "nvcr.io/nvidia/rapidsai/notebooks:25.08-cuda12.9-py3.13",
  "description": "This Starter Kit demonstrates moving data into DGX Cloud Lepton.",
  "kernelspec": {
   "display_name": "Python 3 (ipykernel)",
   "language": "python",
   "name": "python3"
  },
  "language_info": {
   "codemirror_mode": {
    "name": "ipython",
    "version": 3
   },
   "file_extension": ".py",
   "mimetype": "text/x-python",
   "name": "python",
   "nbconvert_exporter": "python",
   "pygments_lexer": "ipython3",
   "version": "3.13.5"
  },
  "title": "S3 Data Download into Lepton Local Storage"
 },
 "nbformat": 4,
 "nbformat_minor": 5
}
